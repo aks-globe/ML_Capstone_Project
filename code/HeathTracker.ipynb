{
 "cells": [
  {
   "cell_type": "markdown",
   "metadata": {},
   "source": [
    "## ML CAPSTONE PROJECT : HEALTH TRACKER"
   ]
  },
  {
   "cell_type": "markdown",
   "metadata": {},
   "source": [
    "## Introduction :"
   ]
  },
  {
   "cell_type": "markdown",
   "metadata": {},
   "source": [
    "The Medication Effectiveness Dataset hosted on Kaggle provides valuable insights into medication effectiveness across various parameters. This dataset serves as a comprehensive resource for exploring the effectiveness of different medications, factors influencing their efficacy, and related attributes. It's curated to support projects focusing on machine learning, specifically in the domain of medication effectiveness analysis."
   ]
  },
  {
   "cell_type": "markdown",
   "metadata": {},
   "source": [
    "## Business Problem Statement :"
   ]
  },
  {
   "cell_type": "markdown",
   "metadata": {},
   "source": [
    "Predicting Medication Effectiveness Based on Patient Profiles"
   ]
  },
  {
   "cell_type": "markdown",
   "metadata": {},
   "source": [
    "## Data Dictionary"
   ]
  },
  {
   "cell_type": "markdown",
   "metadata": {},
   "source": [
    "The dataset encompasses the following fields for each patient's record:\n",
    "\n",
    "1. Patient ID: An exclusive identifier for each patient, represented as an integer.\n",
    "2. Name: A randomly generated full name in string format.\n",
    "3. Date of Birth: A randomly generated date of birth, reflecting ages between 1 and 100 years old. This is presented in date format.\n",
    "4. Gender: Randomly assigned gender, denoted as either 'M' or 'F', represented as a string.\n",
    "5. Medical Conditions: A list comprising three distinct, randomly chosen words signifying medical conditions, in string format.\n",
    "6. Medications: A list featuring three unique, randomly selected words indicating medications, in string format.\n",
    "7. Allergies: A list consisting of three distinct, randomly chosen words representing allergies, in string format.\n",
    "8. Last Appointment Date: A date randomly generated within the past 2 years, represented in date format."
   ]
  },
  {
   "cell_type": "markdown",
   "metadata": {},
   "source": [
    "## Import Libraries"
   ]
  },
  {
   "cell_type": "code",
   "execution_count": 22,
   "metadata": {},
   "outputs": [],
   "source": [
    "import numpy as np\n",
    "import pandas as pd\n",
    "import matplotlib.pyplot as plt\n",
    "import datetime as dt"
   ]
  },
  {
   "cell_type": "markdown",
   "metadata": {},
   "source": [
    "## Data Ingestion"
   ]
  },
  {
   "cell_type": "code",
   "execution_count": 27,
   "metadata": {},
   "outputs": [],
   "source": [
    "df=pd.read_csv(r\"C:\\Users\\sharm\\OneDrive\\Desktop\\Acciojob\\ML Capstone Project\\data\\medical_records.csv\")"
   ]
  },
  {
   "cell_type": "code",
   "execution_count": 28,
   "metadata": {},
   "outputs": [
    {
     "data": {
      "text/html": [
       "<div>\n",
       "<style scoped>\n",
       "    .dataframe tbody tr th:only-of-type {\n",
       "        vertical-align: middle;\n",
       "    }\n",
       "\n",
       "    .dataframe tbody tr th {\n",
       "        vertical-align: top;\n",
       "    }\n",
       "\n",
       "    .dataframe thead th {\n",
       "        text-align: right;\n",
       "    }\n",
       "</style>\n",
       "<table border=\"1\" class=\"dataframe\">\n",
       "  <thead>\n",
       "    <tr style=\"text-align: right;\">\n",
       "      <th></th>\n",
       "      <th>sourpatient_id</th>\n",
       "      <th>name</th>\n",
       "      <th>date_of_birth</th>\n",
       "      <th>gender</th>\n",
       "      <th>medical_conditions</th>\n",
       "      <th>medications</th>\n",
       "      <th>allergies</th>\n",
       "      <th>last_appointment_date</th>\n",
       "    </tr>\n",
       "  </thead>\n",
       "  <tbody>\n",
       "    <tr>\n",
       "      <th>0</th>\n",
       "      <td>1</td>\n",
       "      <td>Scott Webb</td>\n",
       "      <td>1967-04-28</td>\n",
       "      <td>F</td>\n",
       "      <td>Mrs, story, security</td>\n",
       "      <td>example, parent, city</td>\n",
       "      <td>each, product, two</td>\n",
       "      <td>2022-07-26</td>\n",
       "    </tr>\n",
       "    <tr>\n",
       "      <th>1</th>\n",
       "      <td>2</td>\n",
       "      <td>Rachel Frederick</td>\n",
       "      <td>1977-04-04</td>\n",
       "      <td>M</td>\n",
       "      <td>performance, participant, surface</td>\n",
       "      <td>be, develop, guy</td>\n",
       "      <td>north, hospital, international</td>\n",
       "      <td>2023-02-14</td>\n",
       "    </tr>\n",
       "    <tr>\n",
       "      <th>2</th>\n",
       "      <td>3</td>\n",
       "      <td>Eric Kline</td>\n",
       "      <td>1926-05-18</td>\n",
       "      <td>F</td>\n",
       "      <td>quite, about, international</td>\n",
       "      <td>station, situation, popular</td>\n",
       "      <td>tree, other, at</td>\n",
       "      <td>2021-04-24</td>\n",
       "    </tr>\n",
       "    <tr>\n",
       "      <th>3</th>\n",
       "      <td>4</td>\n",
       "      <td>James Rodriguez</td>\n",
       "      <td>1954-07-20</td>\n",
       "      <td>M</td>\n",
       "      <td>him, sea, television</td>\n",
       "      <td>about, item, often</td>\n",
       "      <td>discuss, play, somebody</td>\n",
       "      <td>2022-05-26</td>\n",
       "    </tr>\n",
       "    <tr>\n",
       "      <th>4</th>\n",
       "      <td>5</td>\n",
       "      <td>David Scott</td>\n",
       "      <td>2015-12-07</td>\n",
       "      <td>M</td>\n",
       "      <td>make, moment, physical</td>\n",
       "      <td>deep, letter, difference</td>\n",
       "      <td>because, true, blood</td>\n",
       "      <td>2021-05-17</td>\n",
       "    </tr>\n",
       "  </tbody>\n",
       "</table>\n",
       "</div>"
      ],
      "text/plain": [
       "   sourpatient_id              name date_of_birth gender  \\\n",
       "0               1        Scott Webb    1967-04-28      F   \n",
       "1               2  Rachel Frederick    1977-04-04      M   \n",
       "2               3        Eric Kline    1926-05-18      F   \n",
       "3               4   James Rodriguez    1954-07-20      M   \n",
       "4               5       David Scott    2015-12-07      M   \n",
       "\n",
       "                  medical_conditions                  medications  \\\n",
       "0               Mrs, story, security        example, parent, city   \n",
       "1  performance, participant, surface             be, develop, guy   \n",
       "2        quite, about, international  station, situation, popular   \n",
       "3               him, sea, television           about, item, often   \n",
       "4             make, moment, physical     deep, letter, difference   \n",
       "\n",
       "                        allergies last_appointment_date  \n",
       "0              each, product, two            2022-07-26  \n",
       "1  north, hospital, international            2023-02-14  \n",
       "2                 tree, other, at            2021-04-24  \n",
       "3         discuss, play, somebody            2022-05-26  \n",
       "4            because, true, blood            2021-05-17  "
      ]
     },
     "execution_count": 28,
     "metadata": {},
     "output_type": "execute_result"
    }
   ],
   "source": [
    "df.head()"
   ]
  },
  {
   "cell_type": "code",
   "execution_count": 29,
   "metadata": {},
   "outputs": [
    {
     "name": "stdout",
     "output_type": "stream",
     "text": [
      "<class 'pandas.core.frame.DataFrame'>\n",
      "RangeIndex: 100000 entries, 0 to 99999\n",
      "Data columns (total 8 columns):\n",
      " #   Column                 Non-Null Count   Dtype \n",
      "---  ------                 --------------   ----- \n",
      " 0   sourpatient_id         100000 non-null  int64 \n",
      " 1   name                   100000 non-null  object\n",
      " 2   date_of_birth          100000 non-null  object\n",
      " 3   gender                 100000 non-null  object\n",
      " 4   medical_conditions     100000 non-null  object\n",
      " 5   medications            100000 non-null  object\n",
      " 6   allergies              100000 non-null  object\n",
      " 7   last_appointment_date  100000 non-null  object\n",
      "dtypes: int64(1), object(7)\n",
      "memory usage: 6.1+ MB\n"
     ]
    }
   ],
   "source": [
    "df.info()"
   ]
  },
  {
   "cell_type": "code",
   "execution_count": 30,
   "metadata": {},
   "outputs": [],
   "source": [
    "df['date_of_birth']=pd.to_datetime(df['date_of_birth'])\n",
    "df['last_appointment_date']=pd.to_datetime(df['last_appointment_date'])"
   ]
  },
  {
   "cell_type": "markdown",
   "metadata": {},
   "source": [
    "Converted the 'date_of_birth' and 'last_appointment_date' columns from string format to datetime format."
   ]
  },
  {
   "cell_type": "code",
   "execution_count": 31,
   "metadata": {},
   "outputs": [
    {
     "name": "stdout",
     "output_type": "stream",
     "text": [
      "<class 'pandas.core.frame.DataFrame'>\n",
      "RangeIndex: 100000 entries, 0 to 99999\n",
      "Data columns (total 8 columns):\n",
      " #   Column                 Non-Null Count   Dtype         \n",
      "---  ------                 --------------   -----         \n",
      " 0   sourpatient_id         100000 non-null  int64         \n",
      " 1   name                   100000 non-null  object        \n",
      " 2   date_of_birth          100000 non-null  datetime64[ns]\n",
      " 3   gender                 100000 non-null  object        \n",
      " 4   medical_conditions     100000 non-null  object        \n",
      " 5   medications            100000 non-null  object        \n",
      " 6   allergies              100000 non-null  object        \n",
      " 7   last_appointment_date  100000 non-null  datetime64[ns]\n",
      "dtypes: datetime64[ns](2), int64(1), object(5)\n",
      "memory usage: 6.1+ MB\n"
     ]
    }
   ],
   "source": [
    "df.info()"
   ]
  },
  {
   "cell_type": "markdown",
   "metadata": {},
   "source": [
    "Determining the age of patients"
   ]
  },
  {
   "cell_type": "code",
   "execution_count": 32,
   "metadata": {},
   "outputs": [
    {
     "data": {
      "text/plain": [
       "0        1967\n",
       "1        1977\n",
       "2        1926\n",
       "3        1954\n",
       "4        2015\n",
       "         ... \n",
       "99995    1959\n",
       "99996    1927\n",
       "99997    1996\n",
       "99998    1948\n",
       "99999    1935\n",
       "Name: date_of_birth, Length: 100000, dtype: int32"
      ]
     },
     "execution_count": 32,
     "metadata": {},
     "output_type": "execute_result"
    }
   ],
   "source": [
    "df['date_of_birth'].dt.year"
   ]
  },
  {
   "cell_type": "code",
   "execution_count": 33,
   "metadata": {},
   "outputs": [
    {
     "data": {
      "text/plain": [
       "2024"
      ]
     },
     "execution_count": 33,
     "metadata": {},
     "output_type": "execute_result"
    }
   ],
   "source": [
    "dt.date.today().year"
   ]
  },
  {
   "cell_type": "code",
   "execution_count": 36,
   "metadata": {},
   "outputs": [],
   "source": [
    "df['age']=dt.date.today().year - df['date_of_birth'].dt.year"
   ]
  },
  {
   "cell_type": "code",
   "execution_count": 37,
   "metadata": {},
   "outputs": [
    {
     "data": {
      "text/html": [
       "<div>\n",
       "<style scoped>\n",
       "    .dataframe tbody tr th:only-of-type {\n",
       "        vertical-align: middle;\n",
       "    }\n",
       "\n",
       "    .dataframe tbody tr th {\n",
       "        vertical-align: top;\n",
       "    }\n",
       "\n",
       "    .dataframe thead th {\n",
       "        text-align: right;\n",
       "    }\n",
       "</style>\n",
       "<table border=\"1\" class=\"dataframe\">\n",
       "  <thead>\n",
       "    <tr style=\"text-align: right;\">\n",
       "      <th></th>\n",
       "      <th>sourpatient_id</th>\n",
       "      <th>name</th>\n",
       "      <th>date_of_birth</th>\n",
       "      <th>gender</th>\n",
       "      <th>medical_conditions</th>\n",
       "      <th>medications</th>\n",
       "      <th>allergies</th>\n",
       "      <th>last_appointment_date</th>\n",
       "      <th>age</th>\n",
       "    </tr>\n",
       "  </thead>\n",
       "  <tbody>\n",
       "    <tr>\n",
       "      <th>0</th>\n",
       "      <td>1</td>\n",
       "      <td>Scott Webb</td>\n",
       "      <td>1967-04-28</td>\n",
       "      <td>F</td>\n",
       "      <td>Mrs, story, security</td>\n",
       "      <td>example, parent, city</td>\n",
       "      <td>each, product, two</td>\n",
       "      <td>2022-07-26</td>\n",
       "      <td>57</td>\n",
       "    </tr>\n",
       "    <tr>\n",
       "      <th>1</th>\n",
       "      <td>2</td>\n",
       "      <td>Rachel Frederick</td>\n",
       "      <td>1977-04-04</td>\n",
       "      <td>M</td>\n",
       "      <td>performance, participant, surface</td>\n",
       "      <td>be, develop, guy</td>\n",
       "      <td>north, hospital, international</td>\n",
       "      <td>2023-02-14</td>\n",
       "      <td>47</td>\n",
       "    </tr>\n",
       "    <tr>\n",
       "      <th>2</th>\n",
       "      <td>3</td>\n",
       "      <td>Eric Kline</td>\n",
       "      <td>1926-05-18</td>\n",
       "      <td>F</td>\n",
       "      <td>quite, about, international</td>\n",
       "      <td>station, situation, popular</td>\n",
       "      <td>tree, other, at</td>\n",
       "      <td>2021-04-24</td>\n",
       "      <td>98</td>\n",
       "    </tr>\n",
       "    <tr>\n",
       "      <th>3</th>\n",
       "      <td>4</td>\n",
       "      <td>James Rodriguez</td>\n",
       "      <td>1954-07-20</td>\n",
       "      <td>M</td>\n",
       "      <td>him, sea, television</td>\n",
       "      <td>about, item, often</td>\n",
       "      <td>discuss, play, somebody</td>\n",
       "      <td>2022-05-26</td>\n",
       "      <td>70</td>\n",
       "    </tr>\n",
       "    <tr>\n",
       "      <th>4</th>\n",
       "      <td>5</td>\n",
       "      <td>David Scott</td>\n",
       "      <td>2015-12-07</td>\n",
       "      <td>M</td>\n",
       "      <td>make, moment, physical</td>\n",
       "      <td>deep, letter, difference</td>\n",
       "      <td>because, true, blood</td>\n",
       "      <td>2021-05-17</td>\n",
       "      <td>9</td>\n",
       "    </tr>\n",
       "  </tbody>\n",
       "</table>\n",
       "</div>"
      ],
      "text/plain": [
       "   sourpatient_id              name date_of_birth gender  \\\n",
       "0               1        Scott Webb    1967-04-28      F   \n",
       "1               2  Rachel Frederick    1977-04-04      M   \n",
       "2               3        Eric Kline    1926-05-18      F   \n",
       "3               4   James Rodriguez    1954-07-20      M   \n",
       "4               5       David Scott    2015-12-07      M   \n",
       "\n",
       "                  medical_conditions                  medications  \\\n",
       "0               Mrs, story, security        example, parent, city   \n",
       "1  performance, participant, surface             be, develop, guy   \n",
       "2        quite, about, international  station, situation, popular   \n",
       "3               him, sea, television           about, item, often   \n",
       "4             make, moment, physical     deep, letter, difference   \n",
       "\n",
       "                        allergies last_appointment_date  age  \n",
       "0              each, product, two            2022-07-26   57  \n",
       "1  north, hospital, international            2023-02-14   47  \n",
       "2                 tree, other, at            2021-04-24   98  \n",
       "3         discuss, play, somebody            2022-05-26   70  \n",
       "4            because, true, blood            2021-05-17    9  "
      ]
     },
     "execution_count": 37,
     "metadata": {},
     "output_type": "execute_result"
    }
   ],
   "source": [
    "df.head()"
   ]
  },
  {
   "cell_type": "markdown",
   "metadata": {},
   "source": [
    "Categorization of patients based on age group"
   ]
  },
  {
   "cell_type": "code",
   "execution_count": 38,
   "metadata": {},
   "outputs": [],
   "source": [
    "df['age_group'] = df['age'].apply(lambda x: 'Minor' if x < 18 else 'Young Adult' if x < 35 else 'Middle Aged' if x < 60 else 'Senior')"
   ]
  },
  {
   "cell_type": "code",
   "execution_count": 40,
   "metadata": {},
   "outputs": [
    {
     "data": {
      "text/html": [
       "<div>\n",
       "<style scoped>\n",
       "    .dataframe tbody tr th:only-of-type {\n",
       "        vertical-align: middle;\n",
       "    }\n",
       "\n",
       "    .dataframe tbody tr th {\n",
       "        vertical-align: top;\n",
       "    }\n",
       "\n",
       "    .dataframe thead th {\n",
       "        text-align: right;\n",
       "    }\n",
       "</style>\n",
       "<table border=\"1\" class=\"dataframe\">\n",
       "  <thead>\n",
       "    <tr style=\"text-align: right;\">\n",
       "      <th></th>\n",
       "      <th>sourpatient_id</th>\n",
       "      <th>name</th>\n",
       "      <th>date_of_birth</th>\n",
       "      <th>gender</th>\n",
       "      <th>medical_conditions</th>\n",
       "      <th>medications</th>\n",
       "      <th>allergies</th>\n",
       "      <th>last_appointment_date</th>\n",
       "      <th>age</th>\n",
       "      <th>age_group</th>\n",
       "    </tr>\n",
       "  </thead>\n",
       "  <tbody>\n",
       "    <tr>\n",
       "      <th>0</th>\n",
       "      <td>1</td>\n",
       "      <td>Scott Webb</td>\n",
       "      <td>1967-04-28</td>\n",
       "      <td>F</td>\n",
       "      <td>Mrs, story, security</td>\n",
       "      <td>example, parent, city</td>\n",
       "      <td>each, product, two</td>\n",
       "      <td>2022-07-26</td>\n",
       "      <td>57</td>\n",
       "      <td>Middle Aged</td>\n",
       "    </tr>\n",
       "    <tr>\n",
       "      <th>1</th>\n",
       "      <td>2</td>\n",
       "      <td>Rachel Frederick</td>\n",
       "      <td>1977-04-04</td>\n",
       "      <td>M</td>\n",
       "      <td>performance, participant, surface</td>\n",
       "      <td>be, develop, guy</td>\n",
       "      <td>north, hospital, international</td>\n",
       "      <td>2023-02-14</td>\n",
       "      <td>47</td>\n",
       "      <td>Middle Aged</td>\n",
       "    </tr>\n",
       "    <tr>\n",
       "      <th>2</th>\n",
       "      <td>3</td>\n",
       "      <td>Eric Kline</td>\n",
       "      <td>1926-05-18</td>\n",
       "      <td>F</td>\n",
       "      <td>quite, about, international</td>\n",
       "      <td>station, situation, popular</td>\n",
       "      <td>tree, other, at</td>\n",
       "      <td>2021-04-24</td>\n",
       "      <td>98</td>\n",
       "      <td>Senior</td>\n",
       "    </tr>\n",
       "    <tr>\n",
       "      <th>3</th>\n",
       "      <td>4</td>\n",
       "      <td>James Rodriguez</td>\n",
       "      <td>1954-07-20</td>\n",
       "      <td>M</td>\n",
       "      <td>him, sea, television</td>\n",
       "      <td>about, item, often</td>\n",
       "      <td>discuss, play, somebody</td>\n",
       "      <td>2022-05-26</td>\n",
       "      <td>70</td>\n",
       "      <td>Senior</td>\n",
       "    </tr>\n",
       "    <tr>\n",
       "      <th>4</th>\n",
       "      <td>5</td>\n",
       "      <td>David Scott</td>\n",
       "      <td>2015-12-07</td>\n",
       "      <td>M</td>\n",
       "      <td>make, moment, physical</td>\n",
       "      <td>deep, letter, difference</td>\n",
       "      <td>because, true, blood</td>\n",
       "      <td>2021-05-17</td>\n",
       "      <td>9</td>\n",
       "      <td>Minor</td>\n",
       "    </tr>\n",
       "  </tbody>\n",
       "</table>\n",
       "</div>"
      ],
      "text/plain": [
       "   sourpatient_id              name date_of_birth gender  \\\n",
       "0               1        Scott Webb    1967-04-28      F   \n",
       "1               2  Rachel Frederick    1977-04-04      M   \n",
       "2               3        Eric Kline    1926-05-18      F   \n",
       "3               4   James Rodriguez    1954-07-20      M   \n",
       "4               5       David Scott    2015-12-07      M   \n",
       "\n",
       "                  medical_conditions                  medications  \\\n",
       "0               Mrs, story, security        example, parent, city   \n",
       "1  performance, participant, surface             be, develop, guy   \n",
       "2        quite, about, international  station, situation, popular   \n",
       "3               him, sea, television           about, item, often   \n",
       "4             make, moment, physical     deep, letter, difference   \n",
       "\n",
       "                        allergies last_appointment_date  age    age_group  \n",
       "0              each, product, two            2022-07-26   57  Middle Aged  \n",
       "1  north, hospital, international            2023-02-14   47  Middle Aged  \n",
       "2                 tree, other, at            2021-04-24   98       Senior  \n",
       "3         discuss, play, somebody            2022-05-26   70       Senior  \n",
       "4            because, true, blood            2021-05-17    9        Minor  "
      ]
     },
     "execution_count": 40,
     "metadata": {},
     "output_type": "execute_result"
    }
   ],
   "source": [
    "df.head()"
   ]
  },
  {
   "cell_type": "markdown",
   "metadata": {},
   "source": [
    "Days Since Last Visit"
   ]
  },
  {
   "cell_type": "code",
   "execution_count": 41,
   "metadata": {},
   "outputs": [],
   "source": [
    "df['days_since_last_visit']=dt.date.today()-df['last_appointment_date'].dt.date"
   ]
  },
  {
   "cell_type": "code",
   "execution_count": 42,
   "metadata": {},
   "outputs": [
    {
     "data": {
      "text/html": [
       "<div>\n",
       "<style scoped>\n",
       "    .dataframe tbody tr th:only-of-type {\n",
       "        vertical-align: middle;\n",
       "    }\n",
       "\n",
       "    .dataframe tbody tr th {\n",
       "        vertical-align: top;\n",
       "    }\n",
       "\n",
       "    .dataframe thead th {\n",
       "        text-align: right;\n",
       "    }\n",
       "</style>\n",
       "<table border=\"1\" class=\"dataframe\">\n",
       "  <thead>\n",
       "    <tr style=\"text-align: right;\">\n",
       "      <th></th>\n",
       "      <th>sourpatient_id</th>\n",
       "      <th>name</th>\n",
       "      <th>date_of_birth</th>\n",
       "      <th>gender</th>\n",
       "      <th>medical_conditions</th>\n",
       "      <th>medications</th>\n",
       "      <th>allergies</th>\n",
       "      <th>last_appointment_date</th>\n",
       "      <th>age</th>\n",
       "      <th>age_group</th>\n",
       "      <th>days_since_last_visit</th>\n",
       "    </tr>\n",
       "  </thead>\n",
       "  <tbody>\n",
       "    <tr>\n",
       "      <th>0</th>\n",
       "      <td>1</td>\n",
       "      <td>Scott Webb</td>\n",
       "      <td>1967-04-28</td>\n",
       "      <td>F</td>\n",
       "      <td>Mrs, story, security</td>\n",
       "      <td>example, parent, city</td>\n",
       "      <td>each, product, two</td>\n",
       "      <td>2022-07-26</td>\n",
       "      <td>57</td>\n",
       "      <td>Middle Aged</td>\n",
       "      <td>636 days, 0:00:00</td>\n",
       "    </tr>\n",
       "    <tr>\n",
       "      <th>1</th>\n",
       "      <td>2</td>\n",
       "      <td>Rachel Frederick</td>\n",
       "      <td>1977-04-04</td>\n",
       "      <td>M</td>\n",
       "      <td>performance, participant, surface</td>\n",
       "      <td>be, develop, guy</td>\n",
       "      <td>north, hospital, international</td>\n",
       "      <td>2023-02-14</td>\n",
       "      <td>47</td>\n",
       "      <td>Middle Aged</td>\n",
       "      <td>433 days, 0:00:00</td>\n",
       "    </tr>\n",
       "    <tr>\n",
       "      <th>2</th>\n",
       "      <td>3</td>\n",
       "      <td>Eric Kline</td>\n",
       "      <td>1926-05-18</td>\n",
       "      <td>F</td>\n",
       "      <td>quite, about, international</td>\n",
       "      <td>station, situation, popular</td>\n",
       "      <td>tree, other, at</td>\n",
       "      <td>2021-04-24</td>\n",
       "      <td>98</td>\n",
       "      <td>Senior</td>\n",
       "      <td>1094 days, 0:00:00</td>\n",
       "    </tr>\n",
       "    <tr>\n",
       "      <th>3</th>\n",
       "      <td>4</td>\n",
       "      <td>James Rodriguez</td>\n",
       "      <td>1954-07-20</td>\n",
       "      <td>M</td>\n",
       "      <td>him, sea, television</td>\n",
       "      <td>about, item, often</td>\n",
       "      <td>discuss, play, somebody</td>\n",
       "      <td>2022-05-26</td>\n",
       "      <td>70</td>\n",
       "      <td>Senior</td>\n",
       "      <td>697 days, 0:00:00</td>\n",
       "    </tr>\n",
       "    <tr>\n",
       "      <th>4</th>\n",
       "      <td>5</td>\n",
       "      <td>David Scott</td>\n",
       "      <td>2015-12-07</td>\n",
       "      <td>M</td>\n",
       "      <td>make, moment, physical</td>\n",
       "      <td>deep, letter, difference</td>\n",
       "      <td>because, true, blood</td>\n",
       "      <td>2021-05-17</td>\n",
       "      <td>9</td>\n",
       "      <td>Minor</td>\n",
       "      <td>1071 days, 0:00:00</td>\n",
       "    </tr>\n",
       "  </tbody>\n",
       "</table>\n",
       "</div>"
      ],
      "text/plain": [
       "   sourpatient_id              name date_of_birth gender  \\\n",
       "0               1        Scott Webb    1967-04-28      F   \n",
       "1               2  Rachel Frederick    1977-04-04      M   \n",
       "2               3        Eric Kline    1926-05-18      F   \n",
       "3               4   James Rodriguez    1954-07-20      M   \n",
       "4               5       David Scott    2015-12-07      M   \n",
       "\n",
       "                  medical_conditions                  medications  \\\n",
       "0               Mrs, story, security        example, parent, city   \n",
       "1  performance, participant, surface             be, develop, guy   \n",
       "2        quite, about, international  station, situation, popular   \n",
       "3               him, sea, television           about, item, often   \n",
       "4             make, moment, physical     deep, letter, difference   \n",
       "\n",
       "                        allergies last_appointment_date  age    age_group  \\\n",
       "0              each, product, two            2022-07-26   57  Middle Aged   \n",
       "1  north, hospital, international            2023-02-14   47  Middle Aged   \n",
       "2                 tree, other, at            2021-04-24   98       Senior   \n",
       "3         discuss, play, somebody            2022-05-26   70       Senior   \n",
       "4            because, true, blood            2021-05-17    9        Minor   \n",
       "\n",
       "  days_since_last_visit  \n",
       "0     636 days, 0:00:00  \n",
       "1     433 days, 0:00:00  \n",
       "2    1094 days, 0:00:00  \n",
       "3     697 days, 0:00:00  \n",
       "4    1071 days, 0:00:00  "
      ]
     },
     "execution_count": 42,
     "metadata": {},
     "output_type": "execute_result"
    }
   ],
   "source": [
    "df.head()"
   ]
  },
  {
   "cell_type": "code",
   "execution_count": 43,
   "metadata": {},
   "outputs": [],
   "source": [
    "df['days_since_last_visit']=df['days_since_last_visit'].apply(lambda x: x.days)"
   ]
  },
  {
   "cell_type": "markdown",
   "metadata": {},
   "source": [
    "Patients have been categorized based on their most recent visit"
   ]
  },
  {
   "cell_type": "code",
   "execution_count": 44,
   "metadata": {},
   "outputs": [],
   "source": [
    "df['visit_frquency']=df['days_since_last_visit'].apply(lambda x : \"0-200\" if x<201 else \"201-400\" if x<401 else \"401-600\" if x<601 else \"601-800\" if x<801 else  \">800\")"
   ]
  },
  {
   "cell_type": "code",
   "execution_count": 45,
   "metadata": {},
   "outputs": [
    {
     "data": {
      "text/html": [
       "<div>\n",
       "<style scoped>\n",
       "    .dataframe tbody tr th:only-of-type {\n",
       "        vertical-align: middle;\n",
       "    }\n",
       "\n",
       "    .dataframe tbody tr th {\n",
       "        vertical-align: top;\n",
       "    }\n",
       "\n",
       "    .dataframe thead th {\n",
       "        text-align: right;\n",
       "    }\n",
       "</style>\n",
       "<table border=\"1\" class=\"dataframe\">\n",
       "  <thead>\n",
       "    <tr style=\"text-align: right;\">\n",
       "      <th></th>\n",
       "      <th>sourpatient_id</th>\n",
       "      <th>name</th>\n",
       "      <th>date_of_birth</th>\n",
       "      <th>gender</th>\n",
       "      <th>medical_conditions</th>\n",
       "      <th>medications</th>\n",
       "      <th>allergies</th>\n",
       "      <th>last_appointment_date</th>\n",
       "      <th>age</th>\n",
       "      <th>age_group</th>\n",
       "      <th>days_since_last_visit</th>\n",
       "      <th>visit_frquency</th>\n",
       "    </tr>\n",
       "  </thead>\n",
       "  <tbody>\n",
       "    <tr>\n",
       "      <th>0</th>\n",
       "      <td>1</td>\n",
       "      <td>Scott Webb</td>\n",
       "      <td>1967-04-28</td>\n",
       "      <td>F</td>\n",
       "      <td>Mrs, story, security</td>\n",
       "      <td>example, parent, city</td>\n",
       "      <td>each, product, two</td>\n",
       "      <td>2022-07-26</td>\n",
       "      <td>57</td>\n",
       "      <td>Middle Aged</td>\n",
       "      <td>636</td>\n",
       "      <td>601-800</td>\n",
       "    </tr>\n",
       "    <tr>\n",
       "      <th>1</th>\n",
       "      <td>2</td>\n",
       "      <td>Rachel Frederick</td>\n",
       "      <td>1977-04-04</td>\n",
       "      <td>M</td>\n",
       "      <td>performance, participant, surface</td>\n",
       "      <td>be, develop, guy</td>\n",
       "      <td>north, hospital, international</td>\n",
       "      <td>2023-02-14</td>\n",
       "      <td>47</td>\n",
       "      <td>Middle Aged</td>\n",
       "      <td>433</td>\n",
       "      <td>401-600</td>\n",
       "    </tr>\n",
       "    <tr>\n",
       "      <th>2</th>\n",
       "      <td>3</td>\n",
       "      <td>Eric Kline</td>\n",
       "      <td>1926-05-18</td>\n",
       "      <td>F</td>\n",
       "      <td>quite, about, international</td>\n",
       "      <td>station, situation, popular</td>\n",
       "      <td>tree, other, at</td>\n",
       "      <td>2021-04-24</td>\n",
       "      <td>98</td>\n",
       "      <td>Senior</td>\n",
       "      <td>1094</td>\n",
       "      <td>&gt;800</td>\n",
       "    </tr>\n",
       "    <tr>\n",
       "      <th>3</th>\n",
       "      <td>4</td>\n",
       "      <td>James Rodriguez</td>\n",
       "      <td>1954-07-20</td>\n",
       "      <td>M</td>\n",
       "      <td>him, sea, television</td>\n",
       "      <td>about, item, often</td>\n",
       "      <td>discuss, play, somebody</td>\n",
       "      <td>2022-05-26</td>\n",
       "      <td>70</td>\n",
       "      <td>Senior</td>\n",
       "      <td>697</td>\n",
       "      <td>601-800</td>\n",
       "    </tr>\n",
       "    <tr>\n",
       "      <th>4</th>\n",
       "      <td>5</td>\n",
       "      <td>David Scott</td>\n",
       "      <td>2015-12-07</td>\n",
       "      <td>M</td>\n",
       "      <td>make, moment, physical</td>\n",
       "      <td>deep, letter, difference</td>\n",
       "      <td>because, true, blood</td>\n",
       "      <td>2021-05-17</td>\n",
       "      <td>9</td>\n",
       "      <td>Minor</td>\n",
       "      <td>1071</td>\n",
       "      <td>&gt;800</td>\n",
       "    </tr>\n",
       "  </tbody>\n",
       "</table>\n",
       "</div>"
      ],
      "text/plain": [
       "   sourpatient_id              name date_of_birth gender  \\\n",
       "0               1        Scott Webb    1967-04-28      F   \n",
       "1               2  Rachel Frederick    1977-04-04      M   \n",
       "2               3        Eric Kline    1926-05-18      F   \n",
       "3               4   James Rodriguez    1954-07-20      M   \n",
       "4               5       David Scott    2015-12-07      M   \n",
       "\n",
       "                  medical_conditions                  medications  \\\n",
       "0               Mrs, story, security        example, parent, city   \n",
       "1  performance, participant, surface             be, develop, guy   \n",
       "2        quite, about, international  station, situation, popular   \n",
       "3               him, sea, television           about, item, often   \n",
       "4             make, moment, physical     deep, letter, difference   \n",
       "\n",
       "                        allergies last_appointment_date  age    age_group  \\\n",
       "0              each, product, two            2022-07-26   57  Middle Aged   \n",
       "1  north, hospital, international            2023-02-14   47  Middle Aged   \n",
       "2                 tree, other, at            2021-04-24   98       Senior   \n",
       "3         discuss, play, somebody            2022-05-26   70       Senior   \n",
       "4            because, true, blood            2021-05-17    9        Minor   \n",
       "\n",
       "   days_since_last_visit visit_frquency  \n",
       "0                    636        601-800  \n",
       "1                    433        401-600  \n",
       "2                   1094           >800  \n",
       "3                    697        601-800  \n",
       "4                   1071           >800  "
      ]
     },
     "execution_count": 45,
     "metadata": {},
     "output_type": "execute_result"
    }
   ],
   "source": [
    "df.head()"
   ]
  },
  {
   "cell_type": "code",
   "execution_count": 46,
   "metadata": {},
   "outputs": [
    {
     "data": {
      "text/plain": [
       "Index(['sourpatient_id', 'name', 'date_of_birth', 'gender',\n",
       "       'medical_conditions', 'medications', 'allergies',\n",
       "       'last_appointment_date', 'age', 'age_group', 'days_since_last_visit',\n",
       "       'visit_frquency'],\n",
       "      dtype='object')"
      ]
     },
     "execution_count": 46,
     "metadata": {},
     "output_type": "execute_result"
    }
   ],
   "source": [
    "df.columns"
   ]
  },
  {
   "cell_type": "markdown",
   "metadata": {},
   "source": [
    "## EDA ON MEDICATION"
   ]
  },
  {
   "cell_type": "code",
   "execution_count": 47,
   "metadata": {},
   "outputs": [
    {
     "data": {
      "text/plain": [
       "99992"
      ]
     },
     "execution_count": 47,
     "metadata": {},
     "output_type": "execute_result"
    }
   ],
   "source": [
    "df['medications'].nunique()"
   ]
  },
  {
   "cell_type": "code",
   "execution_count": 48,
   "metadata": {},
   "outputs": [
    {
     "data": {
      "text/plain": [
       "medications\n",
       "brother, building, understand    2\n",
       "million, social, just            2\n",
       "fly, Mrs, claim                  2\n",
       "hot, population, year            2\n",
       "state, eye, firm                 2\n",
       "finish, early, new               2\n",
       "turn, both, dream                2\n",
       "order, economic, hard            2\n",
       "Name: count, dtype: int64"
      ]
     },
     "execution_count": 48,
     "metadata": {},
     "output_type": "execute_result"
    }
   ],
   "source": [
    "med_vc = df['medications'].value_counts()\n",
    "med_vc[med_vc.values>1]"
   ]
  },
  {
   "cell_type": "code",
   "execution_count": 50,
   "metadata": {},
   "outputs": [
    {
     "data": {
      "text/html": [
       "<div>\n",
       "<style scoped>\n",
       "    .dataframe tbody tr th:only-of-type {\n",
       "        vertical-align: middle;\n",
       "    }\n",
       "\n",
       "    .dataframe tbody tr th {\n",
       "        vertical-align: top;\n",
       "    }\n",
       "\n",
       "    .dataframe thead th {\n",
       "        text-align: right;\n",
       "    }\n",
       "</style>\n",
       "<table border=\"1\" class=\"dataframe\">\n",
       "  <thead>\n",
       "    <tr style=\"text-align: right;\">\n",
       "      <th></th>\n",
       "      <th>sourpatient_id</th>\n",
       "      <th>name</th>\n",
       "      <th>date_of_birth</th>\n",
       "      <th>gender</th>\n",
       "      <th>medical_conditions</th>\n",
       "      <th>medications</th>\n",
       "      <th>allergies</th>\n",
       "      <th>last_appointment_date</th>\n",
       "      <th>age</th>\n",
       "      <th>age_group</th>\n",
       "      <th>days_since_last_visit</th>\n",
       "      <th>visit_frquency</th>\n",
       "    </tr>\n",
       "  </thead>\n",
       "  <tbody>\n",
       "    <tr>\n",
       "      <th>1730</th>\n",
       "      <td>1731</td>\n",
       "      <td>John Reed</td>\n",
       "      <td>2012-05-30</td>\n",
       "      <td>F</td>\n",
       "      <td>kind, food, put</td>\n",
       "      <td>state, eye, firm</td>\n",
       "      <td>trouble, seven, keep</td>\n",
       "      <td>2023-01-08</td>\n",
       "      <td>12</td>\n",
       "      <td>Minor</td>\n",
       "      <td>470</td>\n",
       "      <td>401-600</td>\n",
       "    </tr>\n",
       "    <tr>\n",
       "      <th>7669</th>\n",
       "      <td>7670</td>\n",
       "      <td>Jimmy Smith</td>\n",
       "      <td>1948-02-29</td>\n",
       "      <td>M</td>\n",
       "      <td>town, north, authority</td>\n",
       "      <td>order, economic, hard</td>\n",
       "      <td>none, able, act</td>\n",
       "      <td>2022-05-13</td>\n",
       "      <td>76</td>\n",
       "      <td>Senior</td>\n",
       "      <td>710</td>\n",
       "      <td>601-800</td>\n",
       "    </tr>\n",
       "    <tr>\n",
       "      <th>11281</th>\n",
       "      <td>11282</td>\n",
       "      <td>Virginia Tran</td>\n",
       "      <td>1966-01-10</td>\n",
       "      <td>M</td>\n",
       "      <td>authority, assume, step</td>\n",
       "      <td>brother, building, understand</td>\n",
       "      <td>area, clearly, network</td>\n",
       "      <td>2022-12-20</td>\n",
       "      <td>58</td>\n",
       "      <td>Middle Aged</td>\n",
       "      <td>489</td>\n",
       "      <td>401-600</td>\n",
       "    </tr>\n",
       "    <tr>\n",
       "      <th>16299</th>\n",
       "      <td>16300</td>\n",
       "      <td>Valerie Durham</td>\n",
       "      <td>1994-03-27</td>\n",
       "      <td>F</td>\n",
       "      <td>study, effect, pull</td>\n",
       "      <td>million, social, just</td>\n",
       "      <td>necessary, father, look</td>\n",
       "      <td>2022-06-21</td>\n",
       "      <td>30</td>\n",
       "      <td>Young Adult</td>\n",
       "      <td>671</td>\n",
       "      <td>601-800</td>\n",
       "    </tr>\n",
       "    <tr>\n",
       "      <th>17318</th>\n",
       "      <td>17319</td>\n",
       "      <td>Walter Brown</td>\n",
       "      <td>2004-10-05</td>\n",
       "      <td>F</td>\n",
       "      <td>treat, party, yet</td>\n",
       "      <td>brother, building, understand</td>\n",
       "      <td>take, move, foreign</td>\n",
       "      <td>2022-09-01</td>\n",
       "      <td>20</td>\n",
       "      <td>Young Adult</td>\n",
       "      <td>599</td>\n",
       "      <td>401-600</td>\n",
       "    </tr>\n",
       "    <tr>\n",
       "      <th>18048</th>\n",
       "      <td>18049</td>\n",
       "      <td>Jerry Ingram</td>\n",
       "      <td>1995-05-14</td>\n",
       "      <td>F</td>\n",
       "      <td>energy, event, agency</td>\n",
       "      <td>state, eye, firm</td>\n",
       "      <td>his, treatment, tonight</td>\n",
       "      <td>2022-08-20</td>\n",
       "      <td>29</td>\n",
       "      <td>Young Adult</td>\n",
       "      <td>611</td>\n",
       "      <td>601-800</td>\n",
       "    </tr>\n",
       "    <tr>\n",
       "      <th>20356</th>\n",
       "      <td>20357</td>\n",
       "      <td>Luis Lopez</td>\n",
       "      <td>2003-03-18</td>\n",
       "      <td>M</td>\n",
       "      <td>hold, anyone, difficult</td>\n",
       "      <td>fly, Mrs, claim</td>\n",
       "      <td>data, within, recently</td>\n",
       "      <td>2022-06-17</td>\n",
       "      <td>21</td>\n",
       "      <td>Young Adult</td>\n",
       "      <td>675</td>\n",
       "      <td>601-800</td>\n",
       "    </tr>\n",
       "    <tr>\n",
       "      <th>39910</th>\n",
       "      <td>39911</td>\n",
       "      <td>Joshua Parks</td>\n",
       "      <td>1977-07-15</td>\n",
       "      <td>M</td>\n",
       "      <td>stay, owner, fill</td>\n",
       "      <td>hot, population, year</td>\n",
       "      <td>network, all, next</td>\n",
       "      <td>2022-11-02</td>\n",
       "      <td>47</td>\n",
       "      <td>Middle Aged</td>\n",
       "      <td>537</td>\n",
       "      <td>401-600</td>\n",
       "    </tr>\n",
       "    <tr>\n",
       "      <th>42557</th>\n",
       "      <td>42558</td>\n",
       "      <td>Christopher Keller</td>\n",
       "      <td>1940-07-03</td>\n",
       "      <td>M</td>\n",
       "      <td>economic, discussion, civil</td>\n",
       "      <td>finish, early, new</td>\n",
       "      <td>before, whatever, may</td>\n",
       "      <td>2022-02-06</td>\n",
       "      <td>84</td>\n",
       "      <td>Senior</td>\n",
       "      <td>806</td>\n",
       "      <td>&gt;800</td>\n",
       "    </tr>\n",
       "    <tr>\n",
       "      <th>50282</th>\n",
       "      <td>50283</td>\n",
       "      <td>Erik Austin</td>\n",
       "      <td>1994-06-23</td>\n",
       "      <td>F</td>\n",
       "      <td>professional, into, these</td>\n",
       "      <td>finish, early, new</td>\n",
       "      <td>from, also, morning</td>\n",
       "      <td>2021-11-07</td>\n",
       "      <td>30</td>\n",
       "      <td>Young Adult</td>\n",
       "      <td>897</td>\n",
       "      <td>&gt;800</td>\n",
       "    </tr>\n",
       "    <tr>\n",
       "      <th>55997</th>\n",
       "      <td>55998</td>\n",
       "      <td>Michele Abbott</td>\n",
       "      <td>1964-06-08</td>\n",
       "      <td>M</td>\n",
       "      <td>employee, especially, surface</td>\n",
       "      <td>order, economic, hard</td>\n",
       "      <td>air, anyone, PM</td>\n",
       "      <td>2022-09-29</td>\n",
       "      <td>60</td>\n",
       "      <td>Senior</td>\n",
       "      <td>571</td>\n",
       "      <td>401-600</td>\n",
       "    </tr>\n",
       "    <tr>\n",
       "      <th>62981</th>\n",
       "      <td>62982</td>\n",
       "      <td>Stacy Davis</td>\n",
       "      <td>1950-09-14</td>\n",
       "      <td>M</td>\n",
       "      <td>whose, seek, everyone</td>\n",
       "      <td>turn, both, dream</td>\n",
       "      <td>outside, tree, citizen</td>\n",
       "      <td>2022-12-01</td>\n",
       "      <td>74</td>\n",
       "      <td>Senior</td>\n",
       "      <td>508</td>\n",
       "      <td>401-600</td>\n",
       "    </tr>\n",
       "    <tr>\n",
       "      <th>68219</th>\n",
       "      <td>68220</td>\n",
       "      <td>Kevin Walker</td>\n",
       "      <td>1964-06-24</td>\n",
       "      <td>M</td>\n",
       "      <td>writer, skin, whose</td>\n",
       "      <td>turn, both, dream</td>\n",
       "      <td>owner, research, within</td>\n",
       "      <td>2021-06-06</td>\n",
       "      <td>60</td>\n",
       "      <td>Senior</td>\n",
       "      <td>1051</td>\n",
       "      <td>&gt;800</td>\n",
       "    </tr>\n",
       "    <tr>\n",
       "      <th>78693</th>\n",
       "      <td>78694</td>\n",
       "      <td>Jenna Powers</td>\n",
       "      <td>1991-04-16</td>\n",
       "      <td>F</td>\n",
       "      <td>no, foot, early</td>\n",
       "      <td>hot, population, year</td>\n",
       "      <td>next, sing, involve</td>\n",
       "      <td>2022-09-02</td>\n",
       "      <td>33</td>\n",
       "      <td>Young Adult</td>\n",
       "      <td>598</td>\n",
       "      <td>401-600</td>\n",
       "    </tr>\n",
       "    <tr>\n",
       "      <th>79100</th>\n",
       "      <td>79101</td>\n",
       "      <td>Michelle Ray</td>\n",
       "      <td>2009-11-22</td>\n",
       "      <td>F</td>\n",
       "      <td>firm, head, should</td>\n",
       "      <td>fly, Mrs, claim</td>\n",
       "      <td>during, reveal, threat</td>\n",
       "      <td>2022-11-20</td>\n",
       "      <td>15</td>\n",
       "      <td>Minor</td>\n",
       "      <td>519</td>\n",
       "      <td>401-600</td>\n",
       "    </tr>\n",
       "    <tr>\n",
       "      <th>98117</th>\n",
       "      <td>98118</td>\n",
       "      <td>Mary Buck</td>\n",
       "      <td>1945-05-25</td>\n",
       "      <td>M</td>\n",
       "      <td>series, than, animal</td>\n",
       "      <td>million, social, just</td>\n",
       "      <td>edge, serve, group</td>\n",
       "      <td>2021-04-15</td>\n",
       "      <td>79</td>\n",
       "      <td>Senior</td>\n",
       "      <td>1103</td>\n",
       "      <td>&gt;800</td>\n",
       "    </tr>\n",
       "  </tbody>\n",
       "</table>\n",
       "</div>"
      ],
      "text/plain": [
       "       sourpatient_id                name date_of_birth gender  \\\n",
       "1730             1731           John Reed    2012-05-30      F   \n",
       "7669             7670         Jimmy Smith    1948-02-29      M   \n",
       "11281           11282       Virginia Tran    1966-01-10      M   \n",
       "16299           16300      Valerie Durham    1994-03-27      F   \n",
       "17318           17319        Walter Brown    2004-10-05      F   \n",
       "18048           18049        Jerry Ingram    1995-05-14      F   \n",
       "20356           20357          Luis Lopez    2003-03-18      M   \n",
       "39910           39911        Joshua Parks    1977-07-15      M   \n",
       "42557           42558  Christopher Keller    1940-07-03      M   \n",
       "50282           50283         Erik Austin    1994-06-23      F   \n",
       "55997           55998      Michele Abbott    1964-06-08      M   \n",
       "62981           62982         Stacy Davis    1950-09-14      M   \n",
       "68219           68220        Kevin Walker    1964-06-24      M   \n",
       "78693           78694        Jenna Powers    1991-04-16      F   \n",
       "79100           79101        Michelle Ray    2009-11-22      F   \n",
       "98117           98118           Mary Buck    1945-05-25      M   \n",
       "\n",
       "                  medical_conditions                    medications  \\\n",
       "1730                 kind, food, put               state, eye, firm   \n",
       "7669          town, north, authority          order, economic, hard   \n",
       "11281        authority, assume, step  brother, building, understand   \n",
       "16299            study, effect, pull          million, social, just   \n",
       "17318              treat, party, yet  brother, building, understand   \n",
       "18048          energy, event, agency               state, eye, firm   \n",
       "20356        hold, anyone, difficult                fly, Mrs, claim   \n",
       "39910              stay, owner, fill          hot, population, year   \n",
       "42557    economic, discussion, civil             finish, early, new   \n",
       "50282      professional, into, these             finish, early, new   \n",
       "55997  employee, especially, surface          order, economic, hard   \n",
       "62981          whose, seek, everyone              turn, both, dream   \n",
       "68219            writer, skin, whose              turn, both, dream   \n",
       "78693                no, foot, early          hot, population, year   \n",
       "79100             firm, head, should                fly, Mrs, claim   \n",
       "98117           series, than, animal          million, social, just   \n",
       "\n",
       "                     allergies last_appointment_date  age    age_group  \\\n",
       "1730      trouble, seven, keep            2023-01-08   12        Minor   \n",
       "7669           none, able, act            2022-05-13   76       Senior   \n",
       "11281   area, clearly, network            2022-12-20   58  Middle Aged   \n",
       "16299  necessary, father, look            2022-06-21   30  Young Adult   \n",
       "17318      take, move, foreign            2022-09-01   20  Young Adult   \n",
       "18048  his, treatment, tonight            2022-08-20   29  Young Adult   \n",
       "20356   data, within, recently            2022-06-17   21  Young Adult   \n",
       "39910       network, all, next            2022-11-02   47  Middle Aged   \n",
       "42557    before, whatever, may            2022-02-06   84       Senior   \n",
       "50282      from, also, morning            2021-11-07   30  Young Adult   \n",
       "55997          air, anyone, PM            2022-09-29   60       Senior   \n",
       "62981   outside, tree, citizen            2022-12-01   74       Senior   \n",
       "68219  owner, research, within            2021-06-06   60       Senior   \n",
       "78693      next, sing, involve            2022-09-02   33  Young Adult   \n",
       "79100   during, reveal, threat            2022-11-20   15        Minor   \n",
       "98117       edge, serve, group            2021-04-15   79       Senior   \n",
       "\n",
       "       days_since_last_visit visit_frquency  \n",
       "1730                     470        401-600  \n",
       "7669                     710        601-800  \n",
       "11281                    489        401-600  \n",
       "16299                    671        601-800  \n",
       "17318                    599        401-600  \n",
       "18048                    611        601-800  \n",
       "20356                    675        601-800  \n",
       "39910                    537        401-600  \n",
       "42557                    806           >800  \n",
       "50282                    897           >800  \n",
       "55997                    571        401-600  \n",
       "62981                    508        401-600  \n",
       "68219                   1051           >800  \n",
       "78693                    598        401-600  \n",
       "79100                    519        401-600  \n",
       "98117                   1103           >800  "
      ]
     },
     "execution_count": 50,
     "metadata": {},
     "output_type": "execute_result"
    }
   ],
   "source": [
    "df[df['medications'].apply(lambda x : x in med_vc[med_vc.values>1].index)]"
   ]
  },
  {
   "cell_type": "markdown",
   "metadata": {},
   "source": [
    "## Among the 100,000 records, there are merely 8 instances of duplication, where certain records appear twice in the dataset. While the medications prescribed for these cases remain uniform across patients, discrepancies arise in patient demographics, medical conditions, and allergies. Consequently, it becomes challenging to ascertain which medication is appropriate for particular medical conditions or allergies."
   ]
  },
  {
   "cell_type": "markdown",
   "metadata": {},
   "source": [
    "    Identify the top 5 most prescribed medications"
   ]
  },
  {
   "cell_type": "code",
   "execution_count": 51,
   "metadata": {},
   "outputs": [
    {
     "name": "stdout",
     "output_type": "stream",
     "text": [
      "Most common  medications\n",
      "somebody    361\n",
      "such        361\n",
      "skin        360\n",
      "learn       359\n",
      "per         359\n",
      "Name: count, dtype: int64\n"
     ]
    }
   ],
   "source": [
    "medcation_counts = df['medications'].str.split(\", \").explode().value_counts()\n",
    "print(\"Most common \",medcation_counts.head())"
   ]
  },
  {
   "cell_type": "markdown",
   "metadata": {},
   "source": [
    "    Identify the prevalent combination of medications."
   ]
  },
  {
   "cell_type": "code",
   "execution_count": 67,
   "metadata": {},
   "outputs": [],
   "source": [
    "from itertools import combinations"
   ]
  },
  {
   "cell_type": "code",
   "execution_count": 69,
   "metadata": {},
   "outputs": [
    {
     "data": {
      "text/plain": [
       "medications\n",
       "(role, job)             6\n",
       "(mention, leader)       6\n",
       "(indicate, be)          5\n",
       "(president, instead)    5\n",
       "(pattern, economy)      5\n",
       "(lawyer, executive)     5\n",
       "(sing, impact)          5\n",
       "(free, skill)           5\n",
       "(treat, new)            5\n",
       "(natural, as)           5\n",
       "Name: count, dtype: int64"
      ]
     },
     "execution_count": 69,
     "metadata": {},
     "output_type": "execute_result"
    }
   ],
   "source": [
    "medications_comb_counts = df['medications'].apply(lambda x: list(combinations(x.split(\", \"), 2))).explode().value_counts()\n",
    "medications_comb_counts.head(10)"
   ]
  },
  {
   "cell_type": "markdown",
   "metadata": {},
   "source": [
    "## EDA ON MEDICAL CONDITION"
   ]
  },
  {
   "cell_type": "markdown",
   "metadata": {},
   "source": [
    "    Examine the frequency of different medical conditions and frequently prescribed medications. Explore potential correlations between specific conditions and the medications commonly prescribed for them."
   ]
  },
  {
   "cell_type": "code",
   "execution_count": 70,
   "metadata": {},
   "outputs": [
    {
     "data": {
      "text/plain": [
       "99995"
      ]
     },
     "execution_count": 70,
     "metadata": {},
     "output_type": "execute_result"
    }
   ],
   "source": [
    "df['medical_conditions'].nunique()"
   ]
  },
  {
   "cell_type": "code",
   "execution_count": 71,
   "metadata": {},
   "outputs": [
    {
     "data": {
      "text/plain": [
       "medical_conditions\n",
       "should, across, threat    2\n",
       "man, prove, make          2\n",
       "account, second, yes      2\n",
       "doctor, someone, keep     2\n",
       "break, mention, need      2\n",
       "Name: count, dtype: int64"
      ]
     },
     "execution_count": 71,
     "metadata": {},
     "output_type": "execute_result"
    }
   ],
   "source": [
    "mc_vc = df['medical_conditions'].value_counts()\n",
    "mc_vc[mc_vc.values>1]"
   ]
  },
  {
   "cell_type": "code",
   "execution_count": 72,
   "metadata": {},
   "outputs": [
    {
     "data": {
      "text/html": [
       "<div>\n",
       "<style scoped>\n",
       "    .dataframe tbody tr th:only-of-type {\n",
       "        vertical-align: middle;\n",
       "    }\n",
       "\n",
       "    .dataframe tbody tr th {\n",
       "        vertical-align: top;\n",
       "    }\n",
       "\n",
       "    .dataframe thead th {\n",
       "        text-align: right;\n",
       "    }\n",
       "</style>\n",
       "<table border=\"1\" class=\"dataframe\">\n",
       "  <thead>\n",
       "    <tr style=\"text-align: right;\">\n",
       "      <th></th>\n",
       "      <th>sourpatient_id</th>\n",
       "      <th>name</th>\n",
       "      <th>date_of_birth</th>\n",
       "      <th>gender</th>\n",
       "      <th>medical_conditions</th>\n",
       "      <th>medications</th>\n",
       "      <th>allergies</th>\n",
       "      <th>last_appointment_date</th>\n",
       "      <th>age</th>\n",
       "      <th>age_group</th>\n",
       "      <th>days_since_last_visit</th>\n",
       "      <th>visit_frquency</th>\n",
       "    </tr>\n",
       "  </thead>\n",
       "  <tbody>\n",
       "    <tr>\n",
       "      <th>10800</th>\n",
       "      <td>10801</td>\n",
       "      <td>Luke Wood</td>\n",
       "      <td>1972-11-02</td>\n",
       "      <td>F</td>\n",
       "      <td>doctor, someone, keep</td>\n",
       "      <td>at, ten, rise</td>\n",
       "      <td>source, suggest, rather</td>\n",
       "      <td>2022-04-06</td>\n",
       "      <td>52</td>\n",
       "      <td>Middle Aged</td>\n",
       "      <td>747</td>\n",
       "      <td>601-800</td>\n",
       "    </tr>\n",
       "    <tr>\n",
       "      <th>11858</th>\n",
       "      <td>11859</td>\n",
       "      <td>Jerry Lewis</td>\n",
       "      <td>1992-12-13</td>\n",
       "      <td>M</td>\n",
       "      <td>man, prove, make</td>\n",
       "      <td>affect, morning, everybody</td>\n",
       "      <td>hit, above, thus</td>\n",
       "      <td>2023-03-04</td>\n",
       "      <td>32</td>\n",
       "      <td>Young Adult</td>\n",
       "      <td>415</td>\n",
       "      <td>401-600</td>\n",
       "    </tr>\n",
       "    <tr>\n",
       "      <th>33639</th>\n",
       "      <td>33640</td>\n",
       "      <td>Michael Russell</td>\n",
       "      <td>1962-06-04</td>\n",
       "      <td>F</td>\n",
       "      <td>doctor, someone, keep</td>\n",
       "      <td>people, try, fund</td>\n",
       "      <td>rate, matter, probably</td>\n",
       "      <td>2021-10-27</td>\n",
       "      <td>62</td>\n",
       "      <td>Senior</td>\n",
       "      <td>908</td>\n",
       "      <td>&gt;800</td>\n",
       "    </tr>\n",
       "    <tr>\n",
       "      <th>33872</th>\n",
       "      <td>33873</td>\n",
       "      <td>Lisa Garcia</td>\n",
       "      <td>1990-07-23</td>\n",
       "      <td>F</td>\n",
       "      <td>account, second, yes</td>\n",
       "      <td>surface, use, fall</td>\n",
       "      <td>drop, together, analysis</td>\n",
       "      <td>2022-07-05</td>\n",
       "      <td>34</td>\n",
       "      <td>Young Adult</td>\n",
       "      <td>657</td>\n",
       "      <td>601-800</td>\n",
       "    </tr>\n",
       "    <tr>\n",
       "      <th>43067</th>\n",
       "      <td>43068</td>\n",
       "      <td>Meghan Mcdonald</td>\n",
       "      <td>2002-08-07</td>\n",
       "      <td>M</td>\n",
       "      <td>break, mention, need</td>\n",
       "      <td>few, south, mission</td>\n",
       "      <td>rich, also, character</td>\n",
       "      <td>2021-10-04</td>\n",
       "      <td>22</td>\n",
       "      <td>Young Adult</td>\n",
       "      <td>931</td>\n",
       "      <td>&gt;800</td>\n",
       "    </tr>\n",
       "    <tr>\n",
       "      <th>52007</th>\n",
       "      <td>52008</td>\n",
       "      <td>Amber Li</td>\n",
       "      <td>1956-11-29</td>\n",
       "      <td>M</td>\n",
       "      <td>should, across, threat</td>\n",
       "      <td>enter, spring, adult</td>\n",
       "      <td>remain, free, develop</td>\n",
       "      <td>2023-03-13</td>\n",
       "      <td>68</td>\n",
       "      <td>Senior</td>\n",
       "      <td>406</td>\n",
       "      <td>401-600</td>\n",
       "    </tr>\n",
       "    <tr>\n",
       "      <th>56012</th>\n",
       "      <td>56013</td>\n",
       "      <td>Adam Vasquez</td>\n",
       "      <td>1991-06-29</td>\n",
       "      <td>F</td>\n",
       "      <td>should, across, threat</td>\n",
       "      <td>official, stage, miss</td>\n",
       "      <td>drug, during, night</td>\n",
       "      <td>2022-09-19</td>\n",
       "      <td>33</td>\n",
       "      <td>Young Adult</td>\n",
       "      <td>581</td>\n",
       "      <td>401-600</td>\n",
       "    </tr>\n",
       "    <tr>\n",
       "      <th>81138</th>\n",
       "      <td>81139</td>\n",
       "      <td>Karen Jarvis</td>\n",
       "      <td>1950-12-11</td>\n",
       "      <td>M</td>\n",
       "      <td>man, prove, make</td>\n",
       "      <td>very, president, her</td>\n",
       "      <td>decade, student, senior</td>\n",
       "      <td>2021-04-20</td>\n",
       "      <td>74</td>\n",
       "      <td>Senior</td>\n",
       "      <td>1098</td>\n",
       "      <td>&gt;800</td>\n",
       "    </tr>\n",
       "    <tr>\n",
       "      <th>90640</th>\n",
       "      <td>90641</td>\n",
       "      <td>Jenny Gutierrez</td>\n",
       "      <td>1952-09-11</td>\n",
       "      <td>M</td>\n",
       "      <td>account, second, yes</td>\n",
       "      <td>sport, affect, ground</td>\n",
       "      <td>yard, trade, girl</td>\n",
       "      <td>2022-12-08</td>\n",
       "      <td>72</td>\n",
       "      <td>Senior</td>\n",
       "      <td>501</td>\n",
       "      <td>401-600</td>\n",
       "    </tr>\n",
       "    <tr>\n",
       "      <th>97220</th>\n",
       "      <td>97221</td>\n",
       "      <td>Wesley Sullivan</td>\n",
       "      <td>1968-05-29</td>\n",
       "      <td>M</td>\n",
       "      <td>break, mention, need</td>\n",
       "      <td>indicate, if, any</td>\n",
       "      <td>certainly, event, reflect</td>\n",
       "      <td>2022-08-02</td>\n",
       "      <td>56</td>\n",
       "      <td>Middle Aged</td>\n",
       "      <td>629</td>\n",
       "      <td>601-800</td>\n",
       "    </tr>\n",
       "  </tbody>\n",
       "</table>\n",
       "</div>"
      ],
      "text/plain": [
       "       sourpatient_id             name date_of_birth gender  \\\n",
       "10800           10801        Luke Wood    1972-11-02      F   \n",
       "11858           11859      Jerry Lewis    1992-12-13      M   \n",
       "33639           33640  Michael Russell    1962-06-04      F   \n",
       "33872           33873      Lisa Garcia    1990-07-23      F   \n",
       "43067           43068  Meghan Mcdonald    2002-08-07      M   \n",
       "52007           52008         Amber Li    1956-11-29      M   \n",
       "56012           56013     Adam Vasquez    1991-06-29      F   \n",
       "81138           81139     Karen Jarvis    1950-12-11      M   \n",
       "90640           90641  Jenny Gutierrez    1952-09-11      M   \n",
       "97220           97221  Wesley Sullivan    1968-05-29      M   \n",
       "\n",
       "           medical_conditions                 medications  \\\n",
       "10800   doctor, someone, keep               at, ten, rise   \n",
       "11858        man, prove, make  affect, morning, everybody   \n",
       "33639   doctor, someone, keep           people, try, fund   \n",
       "33872    account, second, yes          surface, use, fall   \n",
       "43067    break, mention, need         few, south, mission   \n",
       "52007  should, across, threat        enter, spring, adult   \n",
       "56012  should, across, threat       official, stage, miss   \n",
       "81138        man, prove, make        very, president, her   \n",
       "90640    account, second, yes       sport, affect, ground   \n",
       "97220    break, mention, need           indicate, if, any   \n",
       "\n",
       "                       allergies last_appointment_date  age    age_group  \\\n",
       "10800    source, suggest, rather            2022-04-06   52  Middle Aged   \n",
       "11858           hit, above, thus            2023-03-04   32  Young Adult   \n",
       "33639     rate, matter, probably            2021-10-27   62       Senior   \n",
       "33872   drop, together, analysis            2022-07-05   34  Young Adult   \n",
       "43067      rich, also, character            2021-10-04   22  Young Adult   \n",
       "52007      remain, free, develop            2023-03-13   68       Senior   \n",
       "56012        drug, during, night            2022-09-19   33  Young Adult   \n",
       "81138    decade, student, senior            2021-04-20   74       Senior   \n",
       "90640          yard, trade, girl            2022-12-08   72       Senior   \n",
       "97220  certainly, event, reflect            2022-08-02   56  Middle Aged   \n",
       "\n",
       "       days_since_last_visit visit_frquency  \n",
       "10800                    747        601-800  \n",
       "11858                    415        401-600  \n",
       "33639                    908           >800  \n",
       "33872                    657        601-800  \n",
       "43067                    931           >800  \n",
       "52007                    406        401-600  \n",
       "56012                    581        401-600  \n",
       "81138                   1098           >800  \n",
       "90640                    501        401-600  \n",
       "97220                    629        601-800  "
      ]
     },
     "execution_count": 72,
     "metadata": {},
     "output_type": "execute_result"
    }
   ],
   "source": [
    "df[df['medical_conditions'].apply(lambda x : x in mc_vc[mc_vc.values>1].index)]"
   ]
  },
  {
   "cell_type": "markdown",
   "metadata": {},
   "source": [
    "## Among the 100,000 records in the dataset, a staggering 99,995 feature unique medical conditions. Merely five medical conditions recur, suggesting that while certain patients share identical medical conditions, individualized medication prescriptions tailored by respective doctors account for variations such as allergies and age groups."
   ]
  },
  {
   "cell_type": "markdown",
   "metadata": {},
   "source": [
    "    Identify the top five medical conditions with the highest occurrence"
   ]
  },
  {
   "cell_type": "code",
   "execution_count": 74,
   "metadata": {},
   "outputs": [
    {
     "name": "stdout",
     "output_type": "stream",
     "text": [
      "Most common  medical_conditions\n",
      "sea           368\n",
      "ready         356\n",
      "account       354\n",
      "bad           353\n",
      "population    352\n",
      "Name: count, dtype: int64\n"
     ]
    }
   ],
   "source": [
    "med_condition_counts = df['medical_conditions'].str.split(\", \").explode().value_counts()\n",
    "print(\"Most common \",med_condition_counts.head())"
   ]
  },
  {
   "cell_type": "markdown",
   "metadata": {},
   "source": [
    "    Find the prevalent combination of medical conditions"
   ]
  },
  {
   "cell_type": "code",
   "execution_count": 75,
   "metadata": {},
   "outputs": [
    {
     "data": {
      "text/plain": [
       "medical_conditions\n",
       "(contain, idea)        6\n",
       "(around, resource)     5\n",
       "(nice, field)          5\n",
       "(young, everything)    5\n",
       "(take, so)             5\n",
       "(form, forward)        5\n",
       "(mean, my)             5\n",
       "(goal, president)      5\n",
       "(me, another)          5\n",
       "(serve, sign)          5\n",
       "Name: count, dtype: int64"
      ]
     },
     "execution_count": 75,
     "metadata": {},
     "output_type": "execute_result"
    }
   ],
   "source": [
    "med_con_comb_counts = df['medical_conditions'].apply(lambda x: list(combinations(x.split(\", \"), 2))).explode().value_counts()\n",
    "med_con_comb_counts.head(10)"
   ]
  },
  {
   "cell_type": "markdown",
   "metadata": {},
   "source": [
    "## EDA ON ALLERGIES"
   ]
  },
  {
   "cell_type": "markdown",
   "metadata": {},
   "source": [
    "    Investigate the distribution of allergies and how they might influence the choice of medication"
   ]
  },
  {
   "cell_type": "code",
   "execution_count": 76,
   "metadata": {},
   "outputs": [
    {
     "data": {
      "text/plain": [
       "99996"
      ]
     },
     "execution_count": 76,
     "metadata": {},
     "output_type": "execute_result"
    }
   ],
   "source": [
    "df['allergies'].nunique()"
   ]
  },
  {
   "cell_type": "code",
   "execution_count": 77,
   "metadata": {},
   "outputs": [
    {
     "data": {
      "text/plain": [
       "allergies\n",
       "arrive, nature, pass        2\n",
       "nice, company, reason       2\n",
       "watch, TV, agree            2\n",
       "analysis, join, evidence    2\n",
       "Name: count, dtype: int64"
      ]
     },
     "execution_count": 77,
     "metadata": {},
     "output_type": "execute_result"
    }
   ],
   "source": [
    "ag_vc = df['allergies'].value_counts()\n",
    "ag_vc[ag_vc.values>1]"
   ]
  },
  {
   "cell_type": "code",
   "execution_count": 78,
   "metadata": {},
   "outputs": [
    {
     "data": {
      "text/html": [
       "<div>\n",
       "<style scoped>\n",
       "    .dataframe tbody tr th:only-of-type {\n",
       "        vertical-align: middle;\n",
       "    }\n",
       "\n",
       "    .dataframe tbody tr th {\n",
       "        vertical-align: top;\n",
       "    }\n",
       "\n",
       "    .dataframe thead th {\n",
       "        text-align: right;\n",
       "    }\n",
       "</style>\n",
       "<table border=\"1\" class=\"dataframe\">\n",
       "  <thead>\n",
       "    <tr style=\"text-align: right;\">\n",
       "      <th></th>\n",
       "      <th>sourpatient_id</th>\n",
       "      <th>name</th>\n",
       "      <th>date_of_birth</th>\n",
       "      <th>gender</th>\n",
       "      <th>medical_conditions</th>\n",
       "      <th>medications</th>\n",
       "      <th>allergies</th>\n",
       "      <th>last_appointment_date</th>\n",
       "      <th>age</th>\n",
       "      <th>age_group</th>\n",
       "      <th>days_since_last_visit</th>\n",
       "      <th>visit_frquency</th>\n",
       "    </tr>\n",
       "  </thead>\n",
       "  <tbody>\n",
       "    <tr>\n",
       "      <th>21166</th>\n",
       "      <td>21167</td>\n",
       "      <td>James Davenport</td>\n",
       "      <td>1951-04-04</td>\n",
       "      <td>F</td>\n",
       "      <td>last, idea, light</td>\n",
       "      <td>bill, those, law</td>\n",
       "      <td>analysis, join, evidence</td>\n",
       "      <td>2022-12-18</td>\n",
       "      <td>73</td>\n",
       "      <td>Senior</td>\n",
       "      <td>491</td>\n",
       "      <td>401-600</td>\n",
       "    </tr>\n",
       "    <tr>\n",
       "      <th>33825</th>\n",
       "      <td>33826</td>\n",
       "      <td>Sara Richardson</td>\n",
       "      <td>1933-11-15</td>\n",
       "      <td>M</td>\n",
       "      <td>travel, environment, himself</td>\n",
       "      <td>friend, its, industry</td>\n",
       "      <td>analysis, join, evidence</td>\n",
       "      <td>2021-04-17</td>\n",
       "      <td>91</td>\n",
       "      <td>Senior</td>\n",
       "      <td>1101</td>\n",
       "      <td>&gt;800</td>\n",
       "    </tr>\n",
       "    <tr>\n",
       "      <th>34384</th>\n",
       "      <td>34385</td>\n",
       "      <td>Barbara Roberts</td>\n",
       "      <td>1928-07-30</td>\n",
       "      <td>M</td>\n",
       "      <td>reach, mention, adult</td>\n",
       "      <td>article, but, history</td>\n",
       "      <td>nice, company, reason</td>\n",
       "      <td>2022-01-31</td>\n",
       "      <td>96</td>\n",
       "      <td>Senior</td>\n",
       "      <td>812</td>\n",
       "      <td>&gt;800</td>\n",
       "    </tr>\n",
       "    <tr>\n",
       "      <th>78015</th>\n",
       "      <td>78016</td>\n",
       "      <td>Jeffrey Ortiz</td>\n",
       "      <td>2000-02-12</td>\n",
       "      <td>F</td>\n",
       "      <td>available, rich, art</td>\n",
       "      <td>home, woman, behind</td>\n",
       "      <td>nice, company, reason</td>\n",
       "      <td>2021-11-08</td>\n",
       "      <td>24</td>\n",
       "      <td>Young Adult</td>\n",
       "      <td>896</td>\n",
       "      <td>&gt;800</td>\n",
       "    </tr>\n",
       "    <tr>\n",
       "      <th>85537</th>\n",
       "      <td>85538</td>\n",
       "      <td>Jenna Malone</td>\n",
       "      <td>1977-04-03</td>\n",
       "      <td>F</td>\n",
       "      <td>answer, sell, appear</td>\n",
       "      <td>consider, international, here</td>\n",
       "      <td>arrive, nature, pass</td>\n",
       "      <td>2022-12-26</td>\n",
       "      <td>47</td>\n",
       "      <td>Middle Aged</td>\n",
       "      <td>483</td>\n",
       "      <td>401-600</td>\n",
       "    </tr>\n",
       "    <tr>\n",
       "      <th>87460</th>\n",
       "      <td>87461</td>\n",
       "      <td>Leroy Sanders</td>\n",
       "      <td>1981-02-16</td>\n",
       "      <td>M</td>\n",
       "      <td>suffer, usually, find</td>\n",
       "      <td>provide, method, between</td>\n",
       "      <td>watch, TV, agree</td>\n",
       "      <td>2021-07-19</td>\n",
       "      <td>43</td>\n",
       "      <td>Middle Aged</td>\n",
       "      <td>1008</td>\n",
       "      <td>&gt;800</td>\n",
       "    </tr>\n",
       "    <tr>\n",
       "      <th>94764</th>\n",
       "      <td>94765</td>\n",
       "      <td>Nicholas Franco</td>\n",
       "      <td>1948-03-06</td>\n",
       "      <td>M</td>\n",
       "      <td>personal, wear, how</td>\n",
       "      <td>body, herself, school</td>\n",
       "      <td>arrive, nature, pass</td>\n",
       "      <td>2021-11-19</td>\n",
       "      <td>76</td>\n",
       "      <td>Senior</td>\n",
       "      <td>885</td>\n",
       "      <td>&gt;800</td>\n",
       "    </tr>\n",
       "    <tr>\n",
       "      <th>96694</th>\n",
       "      <td>96695</td>\n",
       "      <td>Jonathan Roy</td>\n",
       "      <td>1971-06-04</td>\n",
       "      <td>F</td>\n",
       "      <td>owner, these, time</td>\n",
       "      <td>yourself, others, physical</td>\n",
       "      <td>watch, TV, agree</td>\n",
       "      <td>2021-11-04</td>\n",
       "      <td>53</td>\n",
       "      <td>Middle Aged</td>\n",
       "      <td>900</td>\n",
       "      <td>&gt;800</td>\n",
       "    </tr>\n",
       "  </tbody>\n",
       "</table>\n",
       "</div>"
      ],
      "text/plain": [
       "       sourpatient_id             name date_of_birth gender  \\\n",
       "21166           21167  James Davenport    1951-04-04      F   \n",
       "33825           33826  Sara Richardson    1933-11-15      M   \n",
       "34384           34385  Barbara Roberts    1928-07-30      M   \n",
       "78015           78016    Jeffrey Ortiz    2000-02-12      F   \n",
       "85537           85538     Jenna Malone    1977-04-03      F   \n",
       "87460           87461    Leroy Sanders    1981-02-16      M   \n",
       "94764           94765  Nicholas Franco    1948-03-06      M   \n",
       "96694           96695     Jonathan Roy    1971-06-04      F   \n",
       "\n",
       "                 medical_conditions                    medications  \\\n",
       "21166             last, idea, light               bill, those, law   \n",
       "33825  travel, environment, himself          friend, its, industry   \n",
       "34384         reach, mention, adult          article, but, history   \n",
       "78015          available, rich, art            home, woman, behind   \n",
       "85537          answer, sell, appear  consider, international, here   \n",
       "87460         suffer, usually, find       provide, method, between   \n",
       "94764           personal, wear, how          body, herself, school   \n",
       "96694            owner, these, time     yourself, others, physical   \n",
       "\n",
       "                      allergies last_appointment_date  age    age_group  \\\n",
       "21166  analysis, join, evidence            2022-12-18   73       Senior   \n",
       "33825  analysis, join, evidence            2021-04-17   91       Senior   \n",
       "34384     nice, company, reason            2022-01-31   96       Senior   \n",
       "78015     nice, company, reason            2021-11-08   24  Young Adult   \n",
       "85537      arrive, nature, pass            2022-12-26   47  Middle Aged   \n",
       "87460          watch, TV, agree            2021-07-19   43  Middle Aged   \n",
       "94764      arrive, nature, pass            2021-11-19   76       Senior   \n",
       "96694          watch, TV, agree            2021-11-04   53  Middle Aged   \n",
       "\n",
       "       days_since_last_visit visit_frquency  \n",
       "21166                    491        401-600  \n",
       "33825                   1101           >800  \n",
       "34384                    812           >800  \n",
       "78015                    896           >800  \n",
       "85537                    483        401-600  \n",
       "87460                   1008           >800  \n",
       "94764                    885           >800  \n",
       "96694                    900           >800  "
      ]
     },
     "execution_count": 78,
     "metadata": {},
     "output_type": "execute_result"
    }
   ],
   "source": [
    "df[df['allergies'].apply(lambda x : x in ag_vc[ag_vc.values>1].index)]"
   ]
  },
  {
   "cell_type": "markdown",
   "metadata": {},
   "source": [
    "## Among the 100,000 records in the dataset, only four instances show overlap. Despite patients having similar allergies, medication prescriptions are uniquely tailored for each individual, taking into account differences in medical conditions and age groups."
   ]
  },
  {
   "cell_type": "markdown",
   "metadata": {},
   "source": [
    "    Identify the five most prevalent allergies"
   ]
  },
  {
   "cell_type": "code",
   "execution_count": 79,
   "metadata": {},
   "outputs": [
    {
     "name": "stdout",
     "output_type": "stream",
     "text": [
      "Most common  allergies\n",
      "two         358\n",
      "goal        357\n",
      "sense       357\n",
      "many        357\n",
      "strategy    356\n",
      "Name: count, dtype: int64\n"
     ]
    }
   ],
   "source": [
    "allergies_counts =df['allergies'].str.split(\", \").explode().value_counts()\n",
    "print(\"Most common \",allergies_counts.head())"
   ]
  },
  {
   "cell_type": "markdown",
   "metadata": {},
   "source": [
    "    Find the most frequent combination of allergies"
   ]
  },
  {
   "cell_type": "code",
   "execution_count": 80,
   "metadata": {},
   "outputs": [
    {
     "data": {
      "text/plain": [
       "allergies\n",
       "(house, name)         5\n",
       "(top, old)            5\n",
       "(also, pay)           5\n",
       "(and, give)           5\n",
       "(discussion, per)     5\n",
       "(tell, similar)       5\n",
       "(doctor, purpose)     5\n",
       "(economy, usually)    5\n",
       "(chair, then)         5\n",
       "(parent, method)      5\n",
       "Name: count, dtype: int64"
      ]
     },
     "execution_count": 80,
     "metadata": {},
     "output_type": "execute_result"
    }
   ],
   "source": [
    "allergies_comb_counts = df['allergies'].apply(lambda x: list(combinations(x.split(\", \"), 2))).explode().value_counts()\n",
    "allergies_comb_counts.head(10)"
   ]
  },
  {
   "cell_type": "markdown",
   "metadata": {},
   "source": [
    "## EDA ON PATIENT DEMOGRAPHICS"
   ]
  },
  {
   "cell_type": "markdown",
   "metadata": {},
   "source": [
    "    Examine the dispersion of age and gender within the dataset, discerning any trends or patterns concerning gender, age categories, and visit frequency"
   ]
  },
  {
   "cell_type": "code",
   "execution_count": 81,
   "metadata": {},
   "outputs": [
    {
     "data": {
      "text/plain": [
       "gender\n",
       "M    50208\n",
       "F    49792\n",
       "Name: count, dtype: int64"
      ]
     },
     "execution_count": 81,
     "metadata": {},
     "output_type": "execute_result"
    }
   ],
   "source": [
    "df['gender'].value_counts()"
   ]
  },
  {
   "cell_type": "code",
   "execution_count": 82,
   "metadata": {},
   "outputs": [
    {
     "data": {
      "text/html": [
       "<div>\n",
       "<style scoped>\n",
       "    .dataframe tbody tr th:only-of-type {\n",
       "        vertical-align: middle;\n",
       "    }\n",
       "\n",
       "    .dataframe tbody tr th {\n",
       "        vertical-align: top;\n",
       "    }\n",
       "\n",
       "    .dataframe thead th {\n",
       "        text-align: right;\n",
       "    }\n",
       "</style>\n",
       "<table border=\"1\" class=\"dataframe\">\n",
       "  <thead>\n",
       "    <tr style=\"text-align: right;\">\n",
       "      <th></th>\n",
       "      <th>age_group</th>\n",
       "      <th>count</th>\n",
       "    </tr>\n",
       "  </thead>\n",
       "  <tbody>\n",
       "    <tr>\n",
       "      <th>0</th>\n",
       "      <td>Senior</td>\n",
       "      <td>42973</td>\n",
       "    </tr>\n",
       "    <tr>\n",
       "      <th>1</th>\n",
       "      <td>Middle Aged</td>\n",
       "      <td>24914</td>\n",
       "    </tr>\n",
       "    <tr>\n",
       "      <th>2</th>\n",
       "      <td>Young Adult</td>\n",
       "      <td>16860</td>\n",
       "    </tr>\n",
       "    <tr>\n",
       "      <th>3</th>\n",
       "      <td>Minor</td>\n",
       "      <td>15253</td>\n",
       "    </tr>\n",
       "  </tbody>\n",
       "</table>\n",
       "</div>"
      ],
      "text/plain": [
       "     age_group  count\n",
       "0       Senior  42973\n",
       "1  Middle Aged  24914\n",
       "2  Young Adult  16860\n",
       "3        Minor  15253"
      ]
     },
     "execution_count": 82,
     "metadata": {},
     "output_type": "execute_result"
    }
   ],
   "source": [
    "age_grp_cnt = df['age_group'].value_counts().reset_index()\n",
    "age_grp_cnt"
   ]
  },
  {
   "cell_type": "code",
   "execution_count": 97,
   "metadata": {},
   "outputs": [
    {
     "data": {
      "image/png": "[encoded data removed]",
      "text/plain": [
       "<Figure size 640x480 with 1 Axes>"
      ]
     },
     "metadata": {},
     "output_type": "display_data"
    }
   ],
   "source": [
    "plt.bar(age_grp_cnt['age_group'],age_grp_cnt['count'],color='pink')\n",
    "plt.xlabel('Age Group')\n",
    "plt.ylabel('Patient Count')\n",
    "plt.show()"
   ]
  },
  {
   "cell_type": "code",
   "execution_count": 98,
   "metadata": {},
   "outputs": [
    {
     "data": {
      "text/html": [
       "<div>\n",
       "<style scoped>\n",
       "    .dataframe tbody tr th:only-of-type {\n",
       "        vertical-align: middle;\n",
       "    }\n",
       "\n",
       "    .dataframe tbody tr th {\n",
       "        vertical-align: top;\n",
       "    }\n",
       "\n",
       "    .dataframe thead th {\n",
       "        text-align: right;\n",
       "    }\n",
       "</style>\n",
       "<table border=\"1\" class=\"dataframe\">\n",
       "  <thead>\n",
       "    <tr style=\"text-align: right;\">\n",
       "      <th></th>\n",
       "      <th>last_appointment_date</th>\n",
       "      <th>count</th>\n",
       "    </tr>\n",
       "  </thead>\n",
       "  <tbody>\n",
       "    <tr>\n",
       "      <th>0</th>\n",
       "      <td>2022</td>\n",
       "      <td>49913</td>\n",
       "    </tr>\n",
       "    <tr>\n",
       "      <th>1</th>\n",
       "      <td>2021</td>\n",
       "      <td>38257</td>\n",
       "    </tr>\n",
       "    <tr>\n",
       "      <th>2</th>\n",
       "      <td>2023</td>\n",
       "      <td>11830</td>\n",
       "    </tr>\n",
       "  </tbody>\n",
       "</table>\n",
       "</div>"
      ],
      "text/plain": [
       "   last_appointment_date  count\n",
       "0                   2022  49913\n",
       "1                   2021  38257\n",
       "2                   2023  11830"
      ]
     },
     "execution_count": 98,
     "metadata": {},
     "output_type": "execute_result"
    }
   ],
   "source": [
    "df['last_appointment_date'].dt.year.value_counts().reset_index()"
   ]
  },
  {
   "cell_type": "code",
   "execution_count": 99,
   "metadata": {},
   "outputs": [
    {
     "data": {
      "text/html": [
       "<div>\n",
       "<style scoped>\n",
       "    .dataframe tbody tr th:only-of-type {\n",
       "        vertical-align: middle;\n",
       "    }\n",
       "\n",
       "    .dataframe tbody tr th {\n",
       "        vertical-align: top;\n",
       "    }\n",
       "\n",
       "    .dataframe thead th {\n",
       "        text-align: right;\n",
       "    }\n",
       "</style>\n",
       "<table border=\"1\" class=\"dataframe\">\n",
       "  <thead>\n",
       "    <tr style=\"text-align: right;\">\n",
       "      <th></th>\n",
       "      <th>visit_frquency</th>\n",
       "      <th>count</th>\n",
       "    </tr>\n",
       "  </thead>\n",
       "  <tbody>\n",
       "    <tr>\n",
       "      <th>0</th>\n",
       "      <td>&gt;800</td>\n",
       "      <td>43962</td>\n",
       "    </tr>\n",
       "    <tr>\n",
       "      <th>1</th>\n",
       "      <td>401-600</td>\n",
       "      <td>27497</td>\n",
       "    </tr>\n",
       "    <tr>\n",
       "      <th>2</th>\n",
       "      <td>601-800</td>\n",
       "      <td>27317</td>\n",
       "    </tr>\n",
       "    <tr>\n",
       "      <th>3</th>\n",
       "      <td>201-400</td>\n",
       "      <td>1224</td>\n",
       "    </tr>\n",
       "  </tbody>\n",
       "</table>\n",
       "</div>"
      ],
      "text/plain": [
       "  visit_frquency  count\n",
       "0           >800  43962\n",
       "1        401-600  27497\n",
       "2        601-800  27317\n",
       "3        201-400   1224"
      ]
     },
     "execution_count": 99,
     "metadata": {},
     "output_type": "execute_result"
    }
   ],
   "source": [
    "df['visit_frquency'].value_counts().reset_index()"
   ]
  },
  {
   "cell_type": "code",
   "execution_count": 100,
   "metadata": {},
   "outputs": [
    {
     "data": {
      "text/html": [
       "<div>\n",
       "<style scoped>\n",
       "    .dataframe tbody tr th:only-of-type {\n",
       "        vertical-align: middle;\n",
       "    }\n",
       "\n",
       "    .dataframe tbody tr th {\n",
       "        vertical-align: top;\n",
       "    }\n",
       "\n",
       "    .dataframe thead th {\n",
       "        text-align: right;\n",
       "    }\n",
       "</style>\n",
       "<table border=\"1\" class=\"dataframe\">\n",
       "  <thead>\n",
       "    <tr style=\"text-align: right;\">\n",
       "      <th></th>\n",
       "      <th>age_group</th>\n",
       "      <th>gender</th>\n",
       "      <th>patient_count</th>\n",
       "    </tr>\n",
       "  </thead>\n",
       "  <tbody>\n",
       "    <tr>\n",
       "      <th>0</th>\n",
       "      <td>Middle Aged</td>\n",
       "      <td>F</td>\n",
       "      <td>12406</td>\n",
       "    </tr>\n",
       "    <tr>\n",
       "      <th>1</th>\n",
       "      <td>Middle Aged</td>\n",
       "      <td>M</td>\n",
       "      <td>12508</td>\n",
       "    </tr>\n",
       "    <tr>\n",
       "      <th>2</th>\n",
       "      <td>Minor</td>\n",
       "      <td>F</td>\n",
       "      <td>7579</td>\n",
       "    </tr>\n",
       "    <tr>\n",
       "      <th>3</th>\n",
       "      <td>Minor</td>\n",
       "      <td>M</td>\n",
       "      <td>7674</td>\n",
       "    </tr>\n",
       "    <tr>\n",
       "      <th>4</th>\n",
       "      <td>Senior</td>\n",
       "      <td>F</td>\n",
       "      <td>21504</td>\n",
       "    </tr>\n",
       "    <tr>\n",
       "      <th>5</th>\n",
       "      <td>Senior</td>\n",
       "      <td>M</td>\n",
       "      <td>21469</td>\n",
       "    </tr>\n",
       "    <tr>\n",
       "      <th>6</th>\n",
       "      <td>Young Adult</td>\n",
       "      <td>F</td>\n",
       "      <td>8303</td>\n",
       "    </tr>\n",
       "    <tr>\n",
       "      <th>7</th>\n",
       "      <td>Young Adult</td>\n",
       "      <td>M</td>\n",
       "      <td>8557</td>\n",
       "    </tr>\n",
       "  </tbody>\n",
       "</table>\n",
       "</div>"
      ],
      "text/plain": [
       "     age_group gender  patient_count\n",
       "0  Middle Aged      F          12406\n",
       "1  Middle Aged      M          12508\n",
       "2        Minor      F           7579\n",
       "3        Minor      M           7674\n",
       "4       Senior      F          21504\n",
       "5       Senior      M          21469\n",
       "6  Young Adult      F           8303\n",
       "7  Young Adult      M           8557"
      ]
     },
     "execution_count": 100,
     "metadata": {},
     "output_type": "execute_result"
    }
   ],
   "source": [
    "df.groupby(['age_group','gender']).size().reset_index().rename(columns={0:'patient_count'})"
   ]
  },
  {
   "cell_type": "markdown",
   "metadata": {},
   "source": [
    "    Determine the percentage of patients in various age groups according to their visit frequency."
   ]
  },
  {
   "cell_type": "code",
   "execution_count": 107,
   "metadata": {},
   "outputs": [
    {
     "data": {
      "text/plain": [
       "Index(['sourpatient_id', 'name', 'date_of_birth', 'gender',\n",
       "       'medical_conditions', 'medications', 'allergies',\n",
       "       'last_appointment_date', 'age', 'age_group', 'days_since_last_visit',\n",
       "       'visit_frquency'],\n",
       "      dtype='object')"
      ]
     },
     "execution_count": 107,
     "metadata": {},
     "output_type": "execute_result"
    }
   ],
   "source": [
    "df.columns"
   ]
  },
  {
   "cell_type": "code",
   "execution_count": 108,
   "metadata": {},
   "outputs": [
    {
     "data": {
      "text/html": [
       "<div>\n",
       "<style scoped>\n",
       "    .dataframe tbody tr th:only-of-type {\n",
       "        vertical-align: middle;\n",
       "    }\n",
       "\n",
       "    .dataframe tbody tr th {\n",
       "        vertical-align: top;\n",
       "    }\n",
       "\n",
       "    .dataframe thead tr th {\n",
       "        text-align: left;\n",
       "    }\n",
       "\n",
       "    .dataframe thead tr:last-of-type th {\n",
       "        text-align: right;\n",
       "    }\n",
       "</style>\n",
       "<table border=\"1\" class=\"dataframe\">\n",
       "  <thead>\n",
       "    <tr>\n",
       "      <th></th>\n",
       "      <th colspan=\"4\" halign=\"left\">count</th>\n",
       "    </tr>\n",
       "    <tr>\n",
       "      <th></th>\n",
       "      <th colspan=\"4\" halign=\"left\">sourpatient_id</th>\n",
       "    </tr>\n",
       "    <tr>\n",
       "      <th>age_group</th>\n",
       "      <th>Middle Aged</th>\n",
       "      <th>Minor</th>\n",
       "      <th>Senior</th>\n",
       "      <th>Young Adult</th>\n",
       "    </tr>\n",
       "    <tr>\n",
       "      <th>visit_frquency</th>\n",
       "      <th></th>\n",
       "      <th></th>\n",
       "      <th></th>\n",
       "      <th></th>\n",
       "    </tr>\n",
       "  </thead>\n",
       "  <tbody>\n",
       "    <tr>\n",
       "      <th>201-400</th>\n",
       "      <td>318</td>\n",
       "      <td>171</td>\n",
       "      <td>516</td>\n",
       "      <td>219</td>\n",
       "    </tr>\n",
       "    <tr>\n",
       "      <th>401-600</th>\n",
       "      <td>6905</td>\n",
       "      <td>4218</td>\n",
       "      <td>11783</td>\n",
       "      <td>4591</td>\n",
       "    </tr>\n",
       "    <tr>\n",
       "      <th>601-800</th>\n",
       "      <td>6750</td>\n",
       "      <td>4110</td>\n",
       "      <td>11812</td>\n",
       "      <td>4645</td>\n",
       "    </tr>\n",
       "    <tr>\n",
       "      <th>&gt;800</th>\n",
       "      <td>10941</td>\n",
       "      <td>6754</td>\n",
       "      <td>18862</td>\n",
       "      <td>7405</td>\n",
       "    </tr>\n",
       "  </tbody>\n",
       "</table>\n",
       "</div>"
      ],
      "text/plain": [
       "                        count                         \n",
       "               sourpatient_id                         \n",
       "age_group         Middle Aged Minor Senior Young Adult\n",
       "visit_frquency                                        \n",
       "201-400                   318   171    516         219\n",
       "401-600                  6905  4218  11783        4591\n",
       "601-800                  6750  4110  11812        4645\n",
       ">800                    10941  6754  18862        7405"
      ]
     },
     "execution_count": 108,
     "metadata": {},
     "output_type": "execute_result"
    }
   ],
   "source": [
    "pvt = pd.pivot_table(\n",
    "    data=df,\n",
    "    index=['visit_frquency'],\n",
    "    columns=['age_group'],\n",
    "    values=['sourpatient_id'],\n",
    "    aggfunc=['count']\n",
    ")\n",
    "pvt"
   ]
  },
  {
   "cell_type": "code",
   "execution_count": 109,
   "metadata": {},
   "outputs": [
    {
     "data": {
      "text/plain": [
       "                       age_group  \n",
       "count  sourpatient_id  Middle Aged    24914\n",
       "                       Minor          15253\n",
       "                       Senior         42973\n",
       "                       Young Adult    16860\n",
       "dtype: int64"
      ]
     },
     "execution_count": 109,
     "metadata": {},
     "output_type": "execute_result"
    }
   ],
   "source": [
    "pvt.sum()"
   ]
  },
  {
   "cell_type": "code",
   "execution_count": 110,
   "metadata": {},
   "outputs": [
    {
     "data": {
      "text/html": [
       "<div>\n",
       "<style scoped>\n",
       "    .dataframe tbody tr th:only-of-type {\n",
       "        vertical-align: middle;\n",
       "    }\n",
       "\n",
       "    .dataframe tbody tr th {\n",
       "        vertical-align: top;\n",
       "    }\n",
       "\n",
       "    .dataframe thead tr th {\n",
       "        text-align: left;\n",
       "    }\n",
       "\n",
       "    .dataframe thead tr:last-of-type th {\n",
       "        text-align: right;\n",
       "    }\n",
       "</style>\n",
       "<table border=\"1\" class=\"dataframe\">\n",
       "  <thead>\n",
       "    <tr>\n",
       "      <th></th>\n",
       "      <th colspan=\"4\" halign=\"left\">count</th>\n",
       "    </tr>\n",
       "    <tr>\n",
       "      <th></th>\n",
       "      <th colspan=\"4\" halign=\"left\">sourpatient_id</th>\n",
       "    </tr>\n",
       "    <tr>\n",
       "      <th>age_group</th>\n",
       "      <th>Middle Aged</th>\n",
       "      <th>Minor</th>\n",
       "      <th>Senior</th>\n",
       "      <th>Young Adult</th>\n",
       "    </tr>\n",
       "    <tr>\n",
       "      <th>visit_frquency</th>\n",
       "      <th></th>\n",
       "      <th></th>\n",
       "      <th></th>\n",
       "      <th></th>\n",
       "    </tr>\n",
       "  </thead>\n",
       "  <tbody>\n",
       "    <tr>\n",
       "      <th>201-400</th>\n",
       "      <td>1.28</td>\n",
       "      <td>1.12</td>\n",
       "      <td>1.20</td>\n",
       "      <td>1.30</td>\n",
       "    </tr>\n",
       "    <tr>\n",
       "      <th>401-600</th>\n",
       "      <td>27.72</td>\n",
       "      <td>27.65</td>\n",
       "      <td>27.42</td>\n",
       "      <td>27.23</td>\n",
       "    </tr>\n",
       "    <tr>\n",
       "      <th>601-800</th>\n",
       "      <td>27.09</td>\n",
       "      <td>26.95</td>\n",
       "      <td>27.49</td>\n",
       "      <td>27.55</td>\n",
       "    </tr>\n",
       "    <tr>\n",
       "      <th>&gt;800</th>\n",
       "      <td>43.92</td>\n",
       "      <td>44.28</td>\n",
       "      <td>43.89</td>\n",
       "      <td>43.92</td>\n",
       "    </tr>\n",
       "  </tbody>\n",
       "</table>\n",
       "</div>"
      ],
      "text/plain": [
       "                        count                          \n",
       "               sourpatient_id                          \n",
       "age_group         Middle Aged  Minor Senior Young Adult\n",
       "visit_frquency                                         \n",
       "201-400                  1.28   1.12   1.20        1.30\n",
       "401-600                 27.72  27.65  27.42       27.23\n",
       "601-800                 27.09  26.95  27.49       27.55\n",
       ">800                    43.92  44.28  43.89       43.92"
      ]
     },
     "execution_count": 110,
     "metadata": {},
     "output_type": "execute_result"
    }
   ],
   "source": [
    "round(pvt/pvt.sum()*100,2)"
   ]
  },
  {
   "cell_type": "markdown",
   "metadata": {},
   "source": [
    "# CONCLUSION"
   ]
  },
  {
   "cell_type": "markdown",
   "metadata": {},
   "source": [
    "## The health tracking project meticulously analyzes a vast dataset comprising 100,000 patient records, revealing invaluable insights and trends. Notably, the dataset primarily comprises unique medical conditions, with only a small subset repeating. Despite this, challenges arise in predicting suitable medications for specific conditions or allergies due to variations in patient demographics, medical histories, and allergies. This diversity emphasizes the importance of personalized healthcare, as evidenced by tailored medication prescriptions tailored for each patient based on their unique attributes. The project sheds light on the intricate interplay among patient characteristics, medical backgrounds, and treatment effectiveness, underscoring the necessity for personalized healthcare solutions to optimize patient outcomes and refine treatment approaches.\n",
    "\n",
    "\n",
    "\n",
    "\n",
    "\n"
   ]
  }
 ],
 "metadata": {
  "kernelspec": {
   "display_name": ".env",
   "language": "python",
   "name": "python3"
  },
  "language_info": {
   "codemirror_mode": {
    "name": "ipython",
    "version": 3
   },
   "file_extension": ".py",
   "mimetype": "text/x-python",
   "name": "python",
   "nbconvert_exporter": "python",
   "pygments_lexer": "ipython3",
   "version": "3.12.0"
  }
 },
 "nbformat": 4,
 "nbformat_minor": 2
}
